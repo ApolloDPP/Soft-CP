{
 "cells": [
  {
   "cell_type": "markdown",
   "metadata": {},
   "source": [
    "# SOFT-CP"
   ]
  },
  {
   "cell_type": "markdown",
   "metadata": {},
   "source": [
    "1.生成source和softlabel的路径list<br/>\n",
    "2.分别随机从两个list选取source和softlabel<br/>\n",
    "3.随机从tansform中选取多个变换对softlabel和source进行变换<br/>\n",
    "4.将softlabel resize成source大小，进行paste<br/>\n",
    "5.将合成图进行随机的翻转，模糊，尺度等操作"
   ]
  },
  {
   "cell_type": "markdown",
   "metadata": {},
   "source": [
    "## PH"
   ]
  },
  {
   "cell_type": "code",
   "execution_count": 11,
   "metadata": {},
   "outputs": [],
   "source": [
    "\n",
    "\n",
    "#生成source和softlabel的路径list\n",
    "import os\n",
    "source_img_path=\"D:\\\\dataaug\\\\paper\\\\figure3\\\\AUG\\\\image\"\n",
    "source_lab_path=\"D:\\\\dataaug\\\\paper\\\\figure3\\\\AUG\\\\label\"\n",
    "softlab_path=\"D:\\\\dataaug\\\\paper\\\\figure3\\\\AUG\\\\soft_lab\"\n",
    "softimg_path=\"D:\\\\dataaug\\\\paper\\\\figure3\\\\AUG\\\\soft_img\"\n",
    "\n",
    "def path_zip(imgs_path,\n",
    "             labs_path):\n",
    "    list_zip=[]\n",
    "    img_names=os.listdir(imgs_path)\n",
    "    lab_names=os.listdir(labs_path)\n",
    "    assert(len(img_names)==len(lab_names))\n",
    "    for i in range(len(img_names)):\n",
    "        assert(img_names[i].split(\"_\")[0]==lab_names[i].split(\"_\")[0])\n",
    "        img_path=imgs_path+\"\\\\\"+img_names[i]\n",
    "        lab_path=labs_path+\"\\\\\"+lab_names[i]\n",
    "        list_zip.append([img_path,lab_path])\n",
    "    return list_zip"
   ]
  },
  {
   "cell_type": "code",
   "execution_count": 12,
   "metadata": {},
   "outputs": [],
   "source": [
    "#分别随机从两个list选取source和softlabel\n",
    "import numpy as np\n",
    "def Random_select(path_zip):\n",
    "    L=len(path_zip)\n",
    "    num=np.random.randint(0,L)\n",
    "    return path_zip[num]"
   ]
  },
  {
   "cell_type": "code",
   "execution_count": 13,
   "metadata": {},
   "outputs": [],
   "source": [
    "import cv2\n",
    "import numpy as np\n",
    "\n",
    "#仿射变换\n",
    "def affine(img):\n",
    "    pts1 = np.float32([[1,0],[0,0],[0,1]])\n",
    "    pts2 = np.float32([[1.2,0.1],[0,0.1],[0.2,1.2]])\n",
    "    M = cv2.getAffineTransform(pts1,pts2)\n",
    "    cols, rows=img.shape[:2]\n",
    "    img_T = cv2.warpAffine(img, M, (rows, cols))\n",
    "    return img_T\n",
    "\n",
    "def rotate(img,angle):#angle=[-180:180]\n",
    "    cols, rows=img.shape[:2]\n",
    "    M=cv2.getRotationMatrix2D((rows/2,cols/2),angle,1)\n",
    "    img_T = cv2.warpAffine(img,M,(rows,cols))\n",
    "    return img_T\n",
    "\n",
    "def panning(img,x,y):#M = np.float32([[1, 0, 200], [0, 1, 100]])\n",
    "    M = np.float32([[1, 0, x], [0, 1, y]])\n",
    "    cols, rows=img.shape[:2]\n",
    "    img_T = cv2.warpAffine(img, M, (rows,cols))\n",
    "    return img_T\n",
    "\n",
    "def flip(img,flipcode):#0垂直，1水平，-1垂直水平\n",
    "    img_T=cv2.flip(img, flipcode)\n",
    "    return img_T\n",
    "\n",
    "def scale(img,scalecode):#scalecode -1缩小，1扩大\n",
    "    cols, rows=img.shape[:2]\n",
    "    if scalecode==1:\n",
    "        img_T=cv2.resize(img,(rows,cols)*2)[:rows,:cols]\n",
    "    else:\n",
    "        img_T=np.zeros_like(img)\n",
    "        img_T[cols//4:cols//4+cols//2,rows//4:rows//4+rows//2]=cv2.resize(img,(rows//2,cols//2))\n",
    "    return img_T\n",
    "        \n",
    "def Contrast_and_Brightness(alpha, beta, img):\n",
    "    blank = np.zeros(img.shape, img.dtype)\n",
    "    # dst = alpha * img + beta * blank\n",
    "    img_T = cv2.addWeighted(img, alpha, blank, 1-alpha, beta)\n",
    "    return img_T\n",
    "def crop(img,ratio):\n",
    "    cols, rows=img.shape[:2]\n",
    "    img_T=img[cols//2-int(cols*ratio[0])//2:cols//2+int(cols*ratio[0])//2,\n",
    "              rows//2-int(rows*ratio[1])//2:rows//2+int(rows*ratio[1])//2]\n",
    "    return img_T\n",
    "def gamma(img, gamma):#gamma[0.5,1.5]\n",
    "    invGamma = 1.0/gamma\n",
    "    img=np.array(img).astype(\"uint8\")\n",
    "    table = []\n",
    "    for i in range(256):\n",
    "        table.append(((i / 255.0) ** invGamma) * 255)\n",
    "    table = np.array(table).astype(\"uint8\")\n",
    "    return cv2.LUT(img, table)\n",
    "\n",
    "\n",
    "from scipy.ndimage.filters import gaussian_filter\n",
    "from scipy.ndimage.interpolation import map_coordinates\n",
    "def elastic_transform(image,label, alpha, sigma, alpha_affine=None, random_state=None):\n",
    "    if random_state is None:\n",
    "        random_state = np.random.RandomState(None)\n",
    "\n",
    "    shape = image.shape\n",
    "    shape_size = shape[:2]\n",
    "\n",
    "    # Random affine\n",
    "    center_square = np.float32(shape_size) // 2\n",
    "    square_size = min(shape_size) // 3\n",
    "    pts1 = np.float32([center_square + square_size, [center_square[0]+square_size, center_square[1]-square_size], center_square - square_size])\n",
    "    pts2 = pts1 + random_state.uniform(-alpha_affine, alpha_affine, size=pts1.shape).astype(np.float32)\n",
    "    M = cv2.getAffineTransform(pts1, pts2)\n",
    "    image = cv2.warpAffine(image, M, shape_size[::-1], borderMode=cv2.BORDER_REFLECT_101)\n",
    "    label = cv2.warpAffine(label, M, shape_size[::-1], borderMode=cv2.BORDER_REFLECT_101)\n",
    "\n",
    "    dx = gaussian_filter((random_state.rand(*shape) * 2 - 1), sigma) * alpha\n",
    "    dy = gaussian_filter((random_state.rand(*shape) * 2 - 1), sigma) * alpha\n",
    "    dz = np.zeros_like(dx)\n",
    "\n",
    "    x, y, z = np.meshgrid(np.arange(shape[1]), np.arange(shape[0]), np.arange(shape[2]))\n",
    "    indices = np.reshape(y+dy, (-1, 1)), np.reshape(x+dx, (-1, 1)), np.reshape(z, (-1, 1))\n",
    "\n",
    "    return map_coordinates(image, indices, order=1, mode='reflect').reshape(shape),map_coordinates(label, indices, order=1, mode='reflect').reshape(shape)\n",
    "    \n",
    "    \n",
    "    \n",
    "def object_transform(img,lab,case):\n",
    "    if case==0:\n",
    "        img_T,lab_T=elastic_transform(img,lab,img.shape[1]*3,\n",
    "                                                          img.shape[1]*0.05,\n",
    "                                                          img.shape[1]*0.09)\n",
    "    elif case==1:\n",
    "        x=np.random.randint(10,30)\n",
    "        y=np.random.randint(10,30)\n",
    "        img_T=panning(img,x,y)\n",
    "        lab_T=panning(lab,x,y)\n",
    "    elif case==2:\n",
    "        angle=np.random.randint(-10,10)\n",
    "        img_T=rotate(img,angle)\n",
    "        lab_T=rotate(lab,angle)\n",
    "    elif case==4:\n",
    "        img_T=scale(img,-1)\n",
    "        lab_T=scale(lab,-1)\n",
    "    elif case==3:\n",
    "        flipcode=np.random.randint(-1,1)\n",
    "        img_T=flip(img,flipcode)\n",
    "        lab_T=flip(lab,flipcode)\n",
    "    \n",
    "    return img_T,lab_T\n",
    "\n",
    "def image_transform(img,lab,case):\n",
    "    if case==0:\n",
    "        flipcode=np.random.randint(-1,1)\n",
    "        \n",
    "        img_T=flip(img,flipcode)\n",
    "        lab_T=flip(lab,flipcode)\n",
    "    elif case==1:\n",
    "        ratio=[1-np.random.rand()/5,1-np.random.rand()/5]\n",
    "        img_T=crop(img,ratio)\n",
    "        lab_T=crop(lab,ratio)\n",
    "    elif case==2:\n",
    "        gammacode=(np.random.rand()-0.5)/3+1\n",
    "        img=img/img.max()*255\n",
    "        img_T=gamma(img,gammacode)\n",
    "        lab_T=lab\n",
    "    elif case==3:\n",
    "        img_T,lab_T=elastic_transform(img,lab,img.shape[1]*3,\n",
    "                                                          img.shape[1]*0.05,\n",
    "                                                          img.shape[1]*0.09)\n",
    "    \n",
    "    return img_T,lab_T\n",
    "    "
   ]
  },
  {
   "cell_type": "code",
   "execution_count": 23,
   "metadata": {},
   "outputs": [],
   "source": [
    "#Fusion\n",
    "import cv2\n",
    "def soft_fusion(source_img,source_lab,soft_img,soft_lab):\n",
    "\n",
    "    soft_img=cv2.resize(soft_img,(source_img.shape[1],source_img.shape[0]))\n",
    "    soft_lab=cv2.resize(soft_lab,(source_lab.shape[1],source_img.shape[0]))\n",
    "    soft_lab=(soft_lab/soft_lab.max())\n",
    "    mask=1-(soft_lab/soft_lab.max())\n",
    "    \n",
    "    aug_img=soft_img+source_img*mask\n",
    "    aug_lab=source_lab*255+cv2.threshold(soft_lab,0.95,255,cv2.THRESH_BINARY)[1]\n",
    "    \n",
    "    #cv2.imwrite(\"D:\\\\dataaug\\\\US\\\\data_new\\\\benign\\\\aug_image\\\\source_image.png\",source_img)\n",
    "    #cv2.imwrite(\"D:\\\\dataaug\\\\US\\\\data_new\\\\benign\\\\aug_image\\\\soft_image.png\",soft_img)\n",
    "    #cv2.imwrite(\"D:\\\\dataaug\\\\US\\\\data_new\\\\benign\\\\aug_image\\\\soft_label.png\",soft_lab)\n",
    "    \n",
    "    return aug_img,aug_lab\n",
    "       "
   ]
  },
  {
   "cell_type": "code",
   "execution_count": 24,
   "metadata": {},
   "outputs": [],
   "source": [
    "#Fusion\n",
    "import cv2\n",
    "def hard_fusion(source_img,source_lab,soft_img,soft_lab):\n",
    "    \n",
    "    soft_img=cv2.resize(soft_img,(source_img.shape[1],source_img.shape[0]))\n",
    "    soft_lab=cv2.resize(soft_lab,(source_lab.shape[1],source_img.shape[0]))\n",
    "    soft_lab=soft_lab/soft_lab.max()\n",
    "    soft_lab=cv2.threshold(soft_lab,0.95,255,cv2.THRESH_BINARY)[1]\n",
    "    \n",
    "    mask=1-(soft_lab/soft_lab.max())\n",
    "    \n",
    "    aug_img=soft_img*(soft_lab/soft_lab.max())+source_img*mask\n",
    "    aug_lab=source_lab+cv2.threshold(soft_lab,0.95,255,cv2.THRESH_BINARY)[1]\n",
    "    \n",
    "    #cv2.imwrite(\"D:\\\\dataaug\\\\US\\\\data_new\\\\benign\\\\aug_image\\\\source_image.png\",source_img)\n",
    "    #cv2.imwrite(\"D:\\\\dataaug\\\\US\\\\data_new\\\\benign\\\\aug_image\\\\soft_image.png\",soft_img)\n",
    "    #cv2.imwrite(\"D:\\\\dataaug\\\\US\\\\data_new\\\\benign\\\\aug_image\\\\soft_label.png\",soft_lab)\n",
    "    \n",
    "    return aug_img,aug_lab\n",
    "       "
   ]
  },
  {
   "cell_type": "code",
   "execution_count": 30,
   "metadata": {},
   "outputs": [],
   "source": [
    "#读取图片路径\n",
    "import numpy as np\n",
    "def data_aug(source_img_path,source_lab_path,softimg_path,softlab_path,num):\n",
    "    soft_paths=path_zip(softimg_path,softlab_path)\n",
    "    source_paths=path_zip(source_img_path,source_lab_path)\n",
    "\n",
    "    #挑选source和soft\n",
    "    i=0\n",
    "    for j in range(num):\n",
    "        #soft_CP\n",
    "        source_pair=Random_select(source_paths)\n",
    "        soft_pair=Random_select(soft_paths)\n",
    "        \n",
    "        source_img=cv2.imread(source_pair[0])\n",
    "        source_lab=cv2.imread(source_pair[1])\n",
    "        source_lab=source_lab/source_lab.max()\n",
    "        #source_lab=np.zeros_like(source_img)\n",
    "\n",
    "        soft_img=cv2.imread(soft_pair[0])\n",
    "        soft_lab=cv2.imread(soft_pair[1])\n",
    "        soft_lab=soft_lab/soft_lab.max()\n",
    "        #soft_img=scale(soft_img,-1)\n",
    "        #soft_lab=scale(soft_img,-1)\n",
    "        soft_hard_lab=cv2.threshold(soft_lab,0.95,1,cv2.THRESH_BINARY)[1]\n",
    "        soft_hard_lab=cv2.resize(soft_hard_lab,(source_lab.shape[1],source_lab.shape[0]))\n",
    "        \n",
    "        if np.sum(source_lab*soft_hard_lab)<1:\n",
    "            i=i+1\n",
    "            source_lab=source_lab*255\n",
    "            soft_lab=soft_lab*255\n",
    "        #soft_lab transform\n",
    "            soft_T=[np.random.randint(1,4),np.random.randint(1,4)]\n",
    "            for case in soft_T:\n",
    "                soft_img,soft_lab=object_transform(soft_img,soft_lab,case)\n",
    "\n",
    "            hard_lab=cv2.threshold(soft_lab/soft_lab.max(),0.99,1,cv2.THRESH_BINARY)[1]\n",
    "            kernel=np.ones((3,3),np.uint8)\n",
    "            #hard_lab=cv2.dilate(hard_lab,kernel,iterations=3)\n",
    "            hard_img=hard_lab*soft_img\n",
    "\n",
    "\n",
    "            #soft_CP\n",
    "            aug_softimg,aug_softlab=soft_fusion(source_img,source_lab,soft_img,soft_lab)\n",
    "            aug_softimg=aug_softimg\n",
    "            image_T=[np.random.randint(0,3),np.random.randint(0,3)]\n",
    "            for case in image_T:\n",
    "                aug_softimg,aug_softlab=image_transform(aug_softimg,aug_softlab,case)\n",
    "            #aug_softimg=cv2.GaussianBlur(aug_softimg,(5,5),0)\n",
    "            aug_softimg=cv2.resize(aug_softimg,(512,512))\n",
    "            aug_softlab=cv2.resize(aug_softlab,(512,512))\n",
    "            cv2.imwrite(\"D:\\\\dataaug\\\\paper\\\\figure3\\\\AUG\\\\aug_softimage\\\\\"+str(i)+\"_augSimage.jpg\",aug_softimg)\n",
    "            cv2.imwrite(\"D:\\\\dataaug\\\\paper\\\\figure3\\\\AUG\\\\aug_softlabel\\\\\"+str(i)+\"_augSlabel.jpg\",aug_softlab)\n",
    "\n",
    "            #TumorCP\n",
    "            aug_hardimg,aug_hardlab=hard_fusion(source_img,source_lab,hard_img,hard_lab)\n",
    "            aug_hardimg=0.7*aug_hardimg+0.3*source_img\n",
    "            image_T=[np.random.randint(0,3),np.random.randint(0,3)]\n",
    "            #for case in image_T:\n",
    "            #    aug_hardimg,aug_hardlab=image_transform(aug_hardimg,aug_hardlab,case)\n",
    "            aug_hardimg=cv2.GaussianBlur(aug_hardimg,(5,5),0)\n",
    "            #cv2.imwrite(\"D:\\\\dataaug\\\\ISIC\\\\ISIC\\\\aug_hardimage\\\\\"+str(i)+\"_augHimage.jpg\",aug_hardimg)\n",
    "            #cv2.imwrite(\"D:\\\\dataaug\\\\ISIC\\\\ISIC\\\\aug_hardlabel\\\\\"+str(i)+\"_augHlabel.jpg\",aug_hardlab)\n",
    "\n",
    "            #Transform\n",
    "            \n",
    "            \"\"\"\n",
    "            S_image=source_img\n",
    "            S_label=source_lab\n",
    "            image_T=[np.random.randint(0,3),np.random.randint(0,3)]\n",
    "            for case in image_T:\n",
    "                S_image,S_label=image_transform(S_image,S_label,case)\n",
    "            cv2.imwrite(\"D:\\\\dataaug\\\\US\\\\data_new\\\\malignant\\\\aug_transimage\\\\\"+str(i)+\"_augTimage.png\",S_image)\n",
    "            cv2.imwrite(\"D:\\\\dataaug\\\\US\\\\data_new\\\\malignant\\\\aug_translabel\\\\\"+str(i)+\"_augTlabel.png\",S_label)\n",
    "            \n",
    "            \"\"\"\n",
    "           \n",
    "\n",
    "\n",
    "        \n",
    "        \n",
    "        "
   ]
  },
  {
   "cell_type": "code",
   "execution_count": 31,
   "metadata": {},
   "outputs": [],
   "source": [
    "data_aug(source_img_path,source_lab_path,softimg_path,softlab_path,50)"
   ]
  },
  {
   "cell_type": "code",
   "execution_count": 10,
   "metadata": {},
   "outputs": [],
   "source": [
    "#ISIC粘贴背景\n",
    "import numpy as np\n",
    "source_img_path=\"D:\\\\dataaug\\\\ISIC\\\\ISIC\\\\background\"\n",
    "source_lab_path=\"D:\\\\dataaug\\\\ISIC\\\\ISIC\\\\background\"\n",
    "softlab_path=\"D:\\\\dataaug\\\\ISIC\\\\ISIC\\\\labels\"\n",
    "softimg_path=\"D:\\\\dataaug\\\\ISIC\\\\ISIC\\\\images\"\n",
    "\n",
    "def ISIC_aug(source_img_path,source_lab_path,softimg_path,softlab_path,num):\n",
    "    soft_paths=path_zip(softimg_path,softlab_path)\n",
    "    source_paths=path_zip(source_img_path,source_lab_path)\n",
    "\n",
    "    #挑选source和soft\n",
    "    i=0\n",
    "    for j in range(num):\n",
    "        i=i+1\n",
    "        #soft_CP\n",
    "        source_pair=Random_select(source_paths)\n",
    "        soft_pair=Random_select(soft_paths)\n",
    "        \n",
    "        source_img=cv2.imread(source_pair[0])\n",
    "\n",
    "        soft_img=cv2.imread(soft_pair[0])\n",
    "        soft_lab=cv2.imread(soft_pair[1])\n",
    "        \n",
    "        alpha=0.5\n",
    "        \n",
    "        aug_softimg=alpha*source_img+(1-alpha)*soft_img\n",
    "        aug_softlab=soft_lab\n",
    "\n",
    "       \n",
    "\n",
    "        cv2.imwrite(\"D:\\\\dataaug\\\\ISIC\\\\ISIC\\\\aug_image\\\\\"+str(i)+\"_augimage.png\",aug_softimg)\n",
    "        #cv2.imwrite(\"D:\\\\dataaug\\\\ISIC\\\\ISIC\\\\aug_image\\\\\"+str(i)+\"_augimage1.png\",soft_img)\n",
    "        cv2.imwrite(\"D:\\\\dataaug\\\\ISIC\\\\ISIC\\\\aug_label\\\\\"+str(i)+\"_auglabel.png\",aug_softlab)\n",
    "\n",
    "\n",
    "        \n",
    "        "
   ]
  },
  {
   "cell_type": "code",
   "execution_count": 104,
   "metadata": {},
   "outputs": [],
   "source": [
    "ISIC_aug(source_img_path,source_lab_path,softimg_path,softlab_path,2000)"
   ]
  },
  {
   "cell_type": "code",
   "execution_count": 1,
   "metadata": {},
   "outputs": [],
   "source": [
    "import numpy as np"
   ]
  },
  {
   "cell_type": "code",
   "execution_count": 6,
   "metadata": {},
   "outputs": [
    {
     "data": {
      "text/plain": [
       "array(True)"
      ]
     },
     "execution_count": 6,
     "metadata": {},
     "output_type": "execute_result"
    }
   ],
   "source": [
    "a=np.asarray(-1).astype(np.bool)\n",
    "a"
   ]
  },
  {
   "cell_type": "code",
   "execution_count": 57,
   "metadata": {},
   "outputs": [],
   "source": [
    "flipcode=np.random.randint(-1,2)"
   ]
  },
  {
   "cell_type": "code",
   "execution_count": 58,
   "metadata": {},
   "outputs": [
    {
     "data": {
      "text/plain": [
       "1"
      ]
     },
     "execution_count": 58,
     "metadata": {},
     "output_type": "execute_result"
    }
   ],
   "source": [
    "flipcode"
   ]
  },
  {
   "cell_type": "code",
   "execution_count": 75,
   "metadata": {},
   "outputs": [],
   "source": [
    "import cv2\n",
    "img1=cv2.imread(\"D:\\\\dataaug\\\\ISIC\\\\ISIC\\\\23.jpg\")\n",
    "img2=cv2.imread(\"D:\\\\dataaug\\\\ISIC\\\\ISIC\\\\1_image.jpg\")\n",
    "mask=cv2.imread(\"D:\\\\dataaug\\\\ISIC\\\\ISIC\\\\1_mask.png\")"
   ]
  },
  {
   "cell_type": "code",
   "execution_count": 76,
   "metadata": {},
   "outputs": [],
   "source": [
    "mask=1-mask/mask.max()"
   ]
  },
  {
   "cell_type": "code",
   "execution_count": 77,
   "metadata": {},
   "outputs": [],
   "source": [
    "img3=0.5*img1+0.5*img2"
   ]
  },
  {
   "cell_type": "code",
   "execution_count": 78,
   "metadata": {},
   "outputs": [
    {
     "data": {
      "text/plain": [
       "True"
      ]
     },
     "execution_count": 78,
     "metadata": {},
     "output_type": "execute_result"
    }
   ],
   "source": [
    "cv2.imwrite(\"D:\\\\dataaug\\\\ISIC\\\\ISIC\\\\test.jpg\",img3)"
   ]
  },
  {
   "cell_type": "code",
   "execution_count": 101,
   "metadata": {},
   "outputs": [],
   "source": [
    "img=cv2.imread(\"D:\\\\dataaug\\\\ISIC\\\\ISIC\\\\background\\\\14.jpg\")\n",
    "for i in range(30):\n",
    "    cv2.imwrite(\"D:\\\\dataaug\\\\ISIC\\\\ISIC\\\\background\\\\\"+str(100*i+1)+\".jpg\",img)"
   ]
  },
  {
   "cell_type": "code",
   "execution_count": null,
   "metadata": {},
   "outputs": [],
   "source": []
  }
 ],
 "metadata": {
  "kernelspec": {
   "display_name": "Python 3 (ipykernel)",
   "language": "python",
   "name": "python3"
  },
  "language_info": {
   "codemirror_mode": {
    "name": "ipython",
    "version": 3
   },
   "file_extension": ".py",
   "mimetype": "text/x-python",
   "name": "python",
   "nbconvert_exporter": "python",
   "pygments_lexer": "ipython3",
   "version": "3.7.11"
  }
 },
 "nbformat": 4,
 "nbformat_minor": 4
}
