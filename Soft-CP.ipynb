{
 "cells": [
  {
   "cell_type": "code",
   "execution_count": null,
   "id": "c3ae4aa8-b1bf-454b-914e-bcce32e00d38",
   "metadata": {},
   "outputs": [],
   "source": [
    "import cv2\n",
    "import numpy as np\n",
    "\n",
    "def soft_lab(img,i):\n",
    "    img=img/img.max()\n",
    "    img_op=1-cv2.threshold(img,0.05,1,cv2.THRESH_BINARY)[1]\n",
    "    img_d=cv2.threshold(img,0.05,1,cv2.THRESH_BINARY)[1]\n",
    "\n",
    "    kernel=np.ones((3,3),np.uint8)\n",
    "    img_d=cv2.dilate(img_d,kernel,iterations=1)\n",
    "    \n",
    "    img_T=img_op*(img_d*0.9**i)+img\n",
    "    return img_T"
   ]
  }
 ],
 "metadata": {
  "kernelspec": {
   "display_name": "Python 3 (ipykernel)",
   "language": "python",
   "name": "python3"
  },
  "language_info": {
   "codemirror_mode": {
    "name": "ipython",
    "version": 3
   },
   "file_extension": ".py",
   "mimetype": "text/x-python",
   "name": "python",
   "nbconvert_exporter": "python",
   "pygments_lexer": "ipython3",
   "version": "3.7.11"
  }
 },
 "nbformat": 4,
 "nbformat_minor": 5
}
